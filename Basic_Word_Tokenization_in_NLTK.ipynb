{
  "nbformat": 4,
  "nbformat_minor": 0,
  "metadata": {
    "colab": {
      "provenance": []
    },
    "kernelspec": {
      "name": "python3",
      "display_name": "Python 3"
    },
    "language_info": {
      "name": "python"
    }
  },
  "cells": [
    {
      "cell_type": "code",
      "execution_count": null,
      "metadata": {
        "colab": {
          "base_uri": "https://localhost:8080/"
        },
        "id": "Z-TOmOw5rgLN",
        "outputId": "00633325-30b7-411e-da80-f6be40e6cfa9"
      },
      "outputs": [
        {
          "output_type": "stream",
          "name": "stdout",
          "text": [
            "Requirement already satisfied: nltk in /usr/local/lib/python3.10/dist-packages (3.8.1)\n",
            "Requirement already satisfied: click in /usr/local/lib/python3.10/dist-packages (from nltk) (8.1.7)\n",
            "Requirement already satisfied: joblib in /usr/local/lib/python3.10/dist-packages (from nltk) (1.4.2)\n",
            "Requirement already satisfied: regex>=2021.8.3 in /usr/local/lib/python3.10/dist-packages (from nltk) (2024.9.11)\n",
            "Requirement already satisfied: tqdm in /usr/local/lib/python3.10/dist-packages (from nltk) (4.66.5)\n"
          ]
        }
      ],
      "source": [
        "!pip install nltk\n"
      ]
    },
    {
      "cell_type": "code",
      "source": [
        "from nltk.tokenize import word_tokenize\n"
      ],
      "metadata": {
        "id": "pbdkmwfXr4k6"
      },
      "execution_count": 3,
      "outputs": []
    },
    {
      "cell_type": "code",
      "source": [
        "text = \"Artificial intelligence is transforming industries worldwide. Many businesses are using AI to improve efficiency and automate processes. The advancements in machine learning and natural language processing have opened up new possibilities. As a result, AI continues to grow in importance across various fields.\"\n"
      ],
      "metadata": {
        "id": "VVCS3CRgsUoN"
      },
      "execution_count": 4,
      "outputs": []
    },
    {
      "cell_type": "code",
      "source": [
        "import nltk\n",
        "nltk.download('punkt')"
      ],
      "metadata": {
        "colab": {
          "base_uri": "https://localhost:8080/"
        },
        "id": "97g9IQBCsjMT",
        "outputId": "8a439ba7-f552-40e7-bd60-859abf1bc51e"
      },
      "execution_count": 6,
      "outputs": [
        {
          "output_type": "stream",
          "name": "stderr",
          "text": [
            "[nltk_data] Downloading package punkt to /root/nltk_data...\n",
            "[nltk_data]   Unzipping tokenizers/punkt.zip.\n"
          ]
        },
        {
          "output_type": "execute_result",
          "data": {
            "text/plain": [
              "True"
            ]
          },
          "metadata": {},
          "execution_count": 6
        }
      ]
    },
    {
      "cell_type": "code",
      "source": [
        "import nltk\n",
        "from nltk.tokenize import word_tokenize\n",
        "from nltk.probability import FreqDist"
      ],
      "metadata": {
        "id": "Zj4oJbw1s0Js"
      },
      "execution_count": 7,
      "outputs": []
    },
    {
      "cell_type": "code",
      "source": [
        "nltk.download('punkt')\n"
      ],
      "metadata": {
        "colab": {
          "base_uri": "https://localhost:8080/"
        },
        "id": "h3g1rotFs4ih",
        "outputId": "1ff5ebdb-5fec-4836-e306-925f5e433d73"
      },
      "execution_count": 8,
      "outputs": [
        {
          "output_type": "stream",
          "name": "stderr",
          "text": [
            "[nltk_data] Downloading package punkt to /root/nltk_data...\n",
            "[nltk_data]   Package punkt is already up-to-date!\n"
          ]
        },
        {
          "output_type": "execute_result",
          "data": {
            "text/plain": [
              "True"
            ]
          },
          "metadata": {},
          "execution_count": 8
        }
      ]
    },
    {
      "cell_type": "code",
      "source": [
        "text = \"Artificial intelligence is transforming industries worldwide. Many businesses are using AI to improve efficiency and automate processes. The advancements in machine learning and natural language processing have opened up new possibilities. As a result, AI continues to grow in importance across various fields.\"\n"
      ],
      "metadata": {
        "id": "DnWf0pA1s6H-"
      },
      "execution_count": 9,
      "outputs": []
    },
    {
      "cell_type": "code",
      "source": [
        "tokens = word_tokenize(text)\n"
      ],
      "metadata": {
        "id": "zoSeOidxs7-6"
      },
      "execution_count": 10,
      "outputs": []
    },
    {
      "cell_type": "code",
      "source": [
        "print(\"Tokens:\", tokens)\n"
      ],
      "metadata": {
        "colab": {
          "base_uri": "https://localhost:8080/"
        },
        "id": "ngTElFHSs9fm",
        "outputId": "6565ae57-2bb1-4191-85e7-540ad461a190"
      },
      "execution_count": 11,
      "outputs": [
        {
          "output_type": "stream",
          "name": "stdout",
          "text": [
            "Tokens: ['Artificial', 'intelligence', 'is', 'transforming', 'industries', 'worldwide', '.', 'Many', 'businesses', 'are', 'using', 'AI', 'to', 'improve', 'efficiency', 'and', 'automate', 'processes', '.', 'The', 'advancements', 'in', 'machine', 'learning', 'and', 'natural', 'language', 'processing', 'have', 'opened', 'up', 'new', 'possibilities', '.', 'As', 'a', 'result', ',', 'AI', 'continues', 'to', 'grow', 'in', 'importance', 'across', 'various', 'fields', '.']\n"
          ]
        }
      ]
    },
    {
      "cell_type": "code",
      "source": [
        "token_count = len(tokens)\n",
        "print(\"Number of tokens:\", token_count)"
      ],
      "metadata": {
        "colab": {
          "base_uri": "https://localhost:8080/"
        },
        "id": "KpC7R2W8s-3M",
        "outputId": "595a9ca6-6d84-4a76-f49c-9fb209231d5b"
      },
      "execution_count": 12,
      "outputs": [
        {
          "output_type": "stream",
          "name": "stdout",
          "text": [
            "Number of tokens: 48\n"
          ]
        }
      ]
    },
    {
      "cell_type": "code",
      "source": [
        "frequency = FreqDist(tokens)\n",
        "print(\"Token Frequency:\", frequency)"
      ],
      "metadata": {
        "colab": {
          "base_uri": "https://localhost:8080/"
        },
        "id": "6UP6F3cftA-Z",
        "outputId": "cecfb6aa-15f1-4a33-a99e-5681f157b8f2"
      },
      "execution_count": 13,
      "outputs": [
        {
          "output_type": "stream",
          "name": "stdout",
          "text": [
            "Token Frequency: <FreqDist with 41 samples and 48 outcomes>\n"
          ]
        }
      ]
    },
    {
      "cell_type": "code",
      "source": [
        "for word, count in frequency.items():\n",
        "    print(f\"{word}: {count}\")"
      ],
      "metadata": {
        "colab": {
          "base_uri": "https://localhost:8080/"
        },
        "id": "KNDZv-wntC_s",
        "outputId": "2b72bb91-082f-488d-a2d3-88b2395774f2"
      },
      "execution_count": 14,
      "outputs": [
        {
          "output_type": "stream",
          "name": "stdout",
          "text": [
            "Artificial: 1\n",
            "intelligence: 1\n",
            "is: 1\n",
            "transforming: 1\n",
            "industries: 1\n",
            "worldwide: 1\n",
            ".: 4\n",
            "Many: 1\n",
            "businesses: 1\n",
            "are: 1\n",
            "using: 1\n",
            "AI: 2\n",
            "to: 2\n",
            "improve: 1\n",
            "efficiency: 1\n",
            "and: 2\n",
            "automate: 1\n",
            "processes: 1\n",
            "The: 1\n",
            "advancements: 1\n",
            "in: 2\n",
            "machine: 1\n",
            "learning: 1\n",
            "natural: 1\n",
            "language: 1\n",
            "processing: 1\n",
            "have: 1\n",
            "opened: 1\n",
            "up: 1\n",
            "new: 1\n",
            "possibilities: 1\n",
            "As: 1\n",
            "a: 1\n",
            "result: 1\n",
            ",: 1\n",
            "continues: 1\n",
            "grow: 1\n",
            "importance: 1\n",
            "across: 1\n",
            "various: 1\n",
            "fields: 1\n"
          ]
        }
      ]
    },
    {
      "cell_type": "code",
      "source": [],
      "metadata": {
        "id": "trPV1RrttEoM"
      },
      "execution_count": null,
      "outputs": []
    }
  ]
}